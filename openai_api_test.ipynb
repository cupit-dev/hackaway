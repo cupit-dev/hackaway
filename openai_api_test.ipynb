{
 "cells": [
  {
   "cell_type": "code",
   "execution_count": 22,
   "metadata": {},
   "outputs": [],
   "source": [
    "journal_entries = [\n",
    "    \"Today felt like a blur; time just slipped away while I was at my desk.\",\n",
    "    \"Managed to catch the sunset after a long day at work. It was quite a view.\",\n",
    "    \"I spent the evening browsing through some old recipes. Might try cooking something new this weekend.\",\n",
    "    \"It's been raining all day, and the sound of raindrops is kind of soothing.\",\n",
    "    \"Another routine day, nothing much to report.\",\n",
    "    \"Had an interesting chat with an old friend, brought back lots of memories.\",\n",
    "    \"The coffee shop was unusually crowded today, had to wait a long time for my order.\"\n",
    "]"
   ]
  },
  {
   "cell_type": "code",
   "execution_count": 23,
   "metadata": {},
   "outputs": [
    {
     "name": "stdout",
     "output_type": "stream",
     "text": [
      "Journal Entry: Today felt like a blur; time just slipped away while I was at my desk.\n",
      "Emotion Summary: The user appears to be feeling a sense of disorientation or confusion, as indicated by the feeling of time slipping away.\n",
      "Music Parameters: target_valence = 0.2, target_danceability = 0.3\n",
      "\n",
      "Journal Entry: Managed to catch the sunset after a long day at work. It was quite a view.\n",
      "Emotion Summary: The user is feeling content and peaceful after having a rewarding experience watching the sunset.\n",
      "Music Parameters: target_valence = 0.9, target_danceability = 0.2\n",
      "\n",
      "Journal Entry: I spent the evening browsing through some old recipes. Might try cooking something new this weekend.\n",
      "Emotion Summary: The user seems enthusiastic and excited about trying out new recipes and cooking something new this weekend.\n",
      "Music Parameters: target_valence = 0.9, target_danceability = 0.7\n",
      "\n",
      "Journal Entry: It's been raining all day, and the sound of raindrops is kind of soothing.\n",
      "Emotion Summary: The user is feeling calm and content.\n",
      "Music Parameters: target_valence = 0.8, target_danceability = 0.3\n",
      "\n",
      "Journal Entry: Another routine day, nothing much to report.\n",
      "Emotion Summary: Neutral\n",
      "Music Parameters: target_valence = 0.5, target_danceability = 0.5\n",
      "\n",
      "Journal Entry: Had an interesting chat with an old friend, brought back lots of memories.\n",
      "Emotion Summary: The user is feeling nostalgic and reflective based on their journal entry.\n",
      "Music Parameters: target_valence = 0.5, target_danceability = 0.2\n",
      "\n",
      "Journal Entry: The coffee shop was unusually crowded today, had to wait a long time for my order.\n",
      "Emotion Summary: The user is feeling frustrated or annoyed due to the long wait at the crowded coffee shop.\n",
      "Music Parameters: target_valence = 0.2, target_danceability = 0.1\n",
      "\n"
     ]
    }
   ],
   "source": [
    "# Import the class from the file\n",
    "from emotional_playlist_generator import EmotionalPlaylistGenerator\n",
    "\n",
    "# Create an instance of the class\n",
    "generator = EmotionalPlaylistGenerator()\n",
    "\n",
    "# Process each journal entry\n",
    "for entry in journal_entries:\n",
    "    emotion_summary = generator.analyse_emotion(entry)\n",
    "    music_parameters = generator.get_music_parameters(emotion_summary)\n",
    "    \n",
    "    print(f\"Journal Entry: {entry}\")\n",
    "    print(f\"Emotion Summary: {emotion_summary}\")\n",
    "    print(f\"Music Parameters: {music_parameters}\\n\")\n"
   ]
  }
 ],
 "metadata": {
  "kernelspec": {
   "display_name": "Python 3",
   "language": "python",
   "name": "python3"
  },
  "language_info": {
   "codemirror_mode": {
    "name": "ipython",
    "version": 3
   },
   "file_extension": ".py",
   "mimetype": "text/x-python",
   "name": "python",
   "nbconvert_exporter": "python",
   "pygments_lexer": "ipython3",
   "version": "3.10.12"
  }
 },
 "nbformat": 4,
 "nbformat_minor": 2
}
