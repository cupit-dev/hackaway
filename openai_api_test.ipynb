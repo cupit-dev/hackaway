{
 "cells": [
  {
   "cell_type": "code",
   "execution_count": 1,
   "metadata": {},
   "outputs": [],
   "source": [
    "journal_entries = [\n",
    "    \"I had an awful day at work. I want to cry.\",\n",
    "    \"Managed to catch the sunset after a long day at work. It was quite a view.\",\n",
    "    \"I spent the evening browsing through some old recipes. Might try cooking something new this weekend.\",\n",
    "    \"It's been raining all day, and the sound of raindrops is kind of soothing.\",\n",
    "    \"Another routine day, nothing much to report.\",\n",
    "    \"Had an interesting chat with an old friend, brought back lots of memories.\",\n",
    "    \"The coffee shop was unusually crowded today, had to wait a long time for my order.\"\n",
    "]\n",
    "\n",
    "# journal_entries = [\n",
    "    # \"@FoodieFran: Made my first homemade sourdough bread today! It's not perfect, but the smell in my kitchen is amazing. 🍞 #BakingAdventures\",\n",
    "    # \"@NatureLoverNick: Caught the sunrise on my morning hike. There's nothing like the peace of the great outdoors. 🌅 #HikingDiaries\",\n",
    "    # \"@BookwormBeth: Finished reading 'The Labyrinth of Spirits' last night. What a breathtaking story! Any recommendations for my next read? 📚 #BookLover\",\n",
    "    # \"@FitnessFreakFiona: Hit a new personal best in my half marathon training today! Feeling unstoppable. 💪 #MarathonTraining #HealthyLiving\",\n",
    "    # \"@ArtisticAlex: Spent the weekend experimenting with watercolors. Not my usual medium, but loving the process of learning something new. 🎨 #ArtJourney\",\n",
    "    # \"@GadgetGeekGary: Just got the latest smartwatch. Time to test out all these features they claim to have! #TechTrends\",\n",
    "    # \"@TravelTalesTina: Just booked my flight to Japan! Can't wait to explore the culture and cuisine. ✈️🌏 #Wanderlust #TravelDiaries\",\n",
    "    # \"@GreenThumbGina: My garden is finally starting to bloom! There's something so rewarding about growing your own food. 🌱 #GardeningLife\",\n",
    "    # \"@ComedyKingCarl: Why don't scientists trust atoms? Because they make up everything! 😂 #DadJokes #ComedyGold\"\n",
    "# ]\n"
   ]
  },
  {
   "cell_type": "code",
   "execution_count": 3,
   "metadata": {},
   "outputs": [
    {
     "ename": "AttributeError",
     "evalue": "module 'os' has no attribute 'env'",
     "output_type": "error",
     "traceback": [
      "\u001b[0;31m---------------------------------------------------------------------------\u001b[0m",
      "\u001b[0;31mAttributeError\u001b[0m                            Traceback (most recent call last)",
      "Cell \u001b[0;32mIn[3], line 5\u001b[0m\n\u001b[1;32m      2\u001b[0m \u001b[38;5;28;01mfrom\u001b[39;00m \u001b[38;5;21;01memotional_playlist_generator\u001b[39;00m \u001b[38;5;28;01mimport\u001b[39;00m EmotionalPlaylistGenerator\n\u001b[1;32m      4\u001b[0m \u001b[38;5;66;03m# Create an instance of the class\u001b[39;00m\n\u001b[0;32m----> 5\u001b[0m generator \u001b[38;5;241m=\u001b[39m \u001b[43mEmotionalPlaylistGenerator\u001b[49m\u001b[43m(\u001b[49m\u001b[43m)\u001b[49m\n\u001b[1;32m      7\u001b[0m \u001b[38;5;66;03m# Process each journal entry\u001b[39;00m\n\u001b[1;32m      8\u001b[0m \u001b[38;5;28;01mfor\u001b[39;00m entry \u001b[38;5;129;01min\u001b[39;00m journal_entries:\n",
      "File \u001b[0;32m~/hackaway/emotional_playlist_generator.py:8\u001b[0m, in \u001b[0;36mEmotionalPlaylistGenerator.__init__\u001b[0;34m(self, api_key)\u001b[0m\n\u001b[1;32m      7\u001b[0m \u001b[38;5;28;01mdef\u001b[39;00m \u001b[38;5;21m__init__\u001b[39m(\u001b[38;5;28mself\u001b[39m, api_key\u001b[38;5;241m=\u001b[39m\u001b[38;5;28;01mNone\u001b[39;00m):\n\u001b[0;32m----> 8\u001b[0m     \u001b[38;5;28mself\u001b[39m\u001b[38;5;241m.\u001b[39mclient \u001b[38;5;241m=\u001b[39m OpenAI(api_key\u001b[38;5;241m=\u001b[39m(api_key \u001b[38;5;28;01mif\u001b[39;00m api_key \u001b[38;5;28;01melse\u001b[39;00m \u001b[43mos\u001b[49m\u001b[38;5;241;43m.\u001b[39;49m\u001b[43menv\u001b[49m(\u001b[38;5;124m'\u001b[39m\u001b[38;5;124mOPENAI_API_KEY\u001b[39m\u001b[38;5;124m'\u001b[39m)))\n\u001b[1;32m      9\u001b[0m     \u001b[38;5;28mself\u001b[39m\u001b[38;5;241m.\u001b[39mlast_request_time \u001b[38;5;241m=\u001b[39m \u001b[38;5;28;01mNone\u001b[39;00m\n\u001b[1;32m     10\u001b[0m     \u001b[38;5;28mself\u001b[39m\u001b[38;5;241m.\u001b[39mrequest_interval \u001b[38;5;241m=\u001b[39m \u001b[38;5;241m1\u001b[39m  \u001b[38;5;66;03m# seconds between requests\u001b[39;00m\n",
      "\u001b[0;31mAttributeError\u001b[0m: module 'os' has no attribute 'env'"
     ]
    }
   ],
   "source": [
    "# Import the class from the file\n",
    "from emotional_playlist_generator import EmotionalPlaylistGenerator\n",
    "\n",
    "# Create an instance of the class\n",
    "generator = EmotionalPlaylistGenerator()\n",
    "\n",
    "# Process each journal entry\n",
    "for entry in journal_entries:\n",
    "    emotion_summary = generator.analyse_emotion(entry)\n",
    "    music_parameters = generator.get_music_parameters(emotion_summary)\n",
    "    \n",
    "    print(f\"Journal Entry: {entry}\")\n",
    "    print(f\"Emotion Summary: {emotion_summary}\")\n",
    "    print(f\"Music Parameters: {music_parameters}\\n\")\n"
   ]
  }
 ],
 "metadata": {
  "kernelspec": {
   "display_name": "Python 3",
   "language": "python",
   "name": "python3"
  },
  "language_info": {
   "codemirror_mode": {
    "name": "ipython",
    "version": 3
   },
   "file_extension": ".py",
   "mimetype": "text/x-python",
   "name": "python",
   "nbconvert_exporter": "python",
   "pygments_lexer": "ipython3",
   "version": "3.10.12"
  }
 },
 "nbformat": 4,
 "nbformat_minor": 2
}
