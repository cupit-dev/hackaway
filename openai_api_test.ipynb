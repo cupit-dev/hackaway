{
 "cells": [
  {
   "cell_type": "code",
   "execution_count": 1,
   "metadata": {},
   "outputs": [],
   "source": [
    "journal_entries = [\n",
    "    \"I had an awful day at work. I want to cry.\",\n",
    "    \"Managed to catch the sunset after a long day at work. It was quite a view.\",\n",
    "    \"I spent the evening browsing through some old recipes. Might try cooking something new this weekend.\",\n",
    "    \"It's been raining all day, and the sound of raindrops is kind of soothing.\",\n",
    "    \"Another routine day, nothing much to report.\",\n",
    "    \"Had an interesting chat with an old friend, brought back lots of memories.\",\n",
    "    \"The coffee shop was unusually crowded today, had to wait a long time for my order.\"\n",
    "]"
   ]
  },
  {
   "cell_type": "code",
   "execution_count": 2,
   "metadata": {},
   "outputs": [
    {
     "name": "stdout",
     "output_type": "stream",
     "text": [
      "Journal Entry: I had an awful day at work. I want to cry.\n",
      "Emotion Summary: The user is feeling extremely upset and overwhelmed due to their terrible day at work, to the point where they feel like crying.\n",
      "Music Parameters: target_valence = 0.20\n",
      "target_danceability = 0.30\n",
      "target_energy = 0.20\n",
      "min_acousticness = 0.70\n",
      "\n",
      "Journal Entry: Managed to catch the sunset after a long day at work. It was quite a view.\n",
      "Emotion Summary: Feeling content and appreciative after a satisfying end to the day.\n",
      "Music Parameters: target_valence = 0.80 \n",
      "target_danceability = 0.60 \n",
      "target_energy = 0.70 \n",
      "min_acousticness = 0.20\n",
      "\n",
      "Journal Entry: I spent the evening browsing through some old recipes. Might try cooking something new this weekend.\n",
      "Emotion Summary: The user seems excited and adventurous as they express interest in trying out new recipes for the weekend cooking plans.\n",
      "Music Parameters: target_valence = 0.80\n",
      "target_danceability = 0.70\n",
      "target_energy = 0.75\n",
      "min_acousticness = 0.10\n",
      "\n",
      "Journal Entry: It's been raining all day, and the sound of raindrops is kind of soothing.\n",
      "Emotion Summary: The user seems to be feeling relaxed and content, finding comfort in the sound of rain.\n",
      "Music Parameters: target_valence = 0.80\n",
      "target_danceability = 0.40\n",
      "target_energy = 0.50\n",
      "min_acousticness = 0.30\n",
      "\n",
      "Journal Entry: Another routine day, nothing much to report.\n",
      "Emotion Summary: Neutral\n",
      "Music Parameters: target_valence = 0.50\n",
      "target_danceability = 0.50\n",
      "target_energy = 0.50\n",
      "min_acousticness = 0.00\n",
      "\n",
      "Journal Entry: Had an interesting chat with an old friend, brought back lots of memories.\n",
      "Emotion Summary: The user is feeling nostalgic and reflective after reconnecting with an old friend and reminiscing about past memories.\n",
      "Music Parameters: target_valence = 0.75\n",
      "target_danceability = 0.6\n",
      "target_energy = 0.7\n",
      "min_acousticness = 0.2\n",
      "\n",
      "Journal Entry: The coffee shop was unusually crowded today, had to wait a long time for my order.\n",
      "Emotion Summary: The user might be feeling frustrated or annoyed due to the long wait at the crowded coffee shop.\n",
      "Music Parameters: target_valence = 0.30\n",
      "target_danceability = 0.50\n",
      "target_energy = 0.60\n",
      "min_acousticness = 0.10\n",
      "\n"
     ]
    }
   ],
   "source": [
    "# Import the class from the file\n",
    "from emotional_playlist_generator import EmotionalPlaylistGenerator\n",
    "\n",
    "# Create an instance of the class\n",
    "generator = EmotionalPlaylistGenerator()\n",
    "\n",
    "# Process each journal entry\n",
    "for entry in journal_entries:\n",
    "    emotion_summary = generator.analyse_emotion(entry)\n",
    "    music_parameters = generator.get_music_parameters(emotion_summary)\n",
    "    \n",
    "    print(f\"Journal Entry: {entry}\")\n",
    "    print(f\"Emotion Summary: {emotion_summary}\")\n",
    "    print(f\"Music Parameters: \\n{music_parameters}\\n\")\n"
   ]
  }
 ],
 "metadata": {
  "kernelspec": {
   "display_name": "Python 3",
   "language": "python",
   "name": "python3"
  },
  "language_info": {
   "codemirror_mode": {
    "name": "ipython",
    "version": 3
   },
   "file_extension": ".py",
   "mimetype": "text/x-python",
   "name": "python",
   "nbconvert_exporter": "python",
   "pygments_lexer": "ipython3",
   "version": "3.10.12"
  }
 },
 "nbformat": 4,
 "nbformat_minor": 2
}
